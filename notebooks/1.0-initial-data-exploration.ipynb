{
 "cells": [
  {
   "cell_type": "code",
   "execution_count": null,
   "metadata": {},
   "outputs": [],
   "source": [
    "PATH = os.getcwd() # '/Users/admin/Documents/Projects/unit2'\n",
    "\n",
    "# Import Data\n",
    "train = pd.read_csv(f'{PATH}/data/311_Service_requests_2018.csv', nrows=100000, low_memory=False)\n",
    "test = pd.read_csv(f'{PATH}/data/nyc_clean.csv', nrows=100000, low_memory=False)\n",
    "\n"
   ]
  }
 ],
 "metadata": {
  "kernelspec": {
   "display_name": "Python 3",
   "language": "python",
   "name": "python3"
  },
  "language_info": {
   "codemirror_mode": {
    "name": "ipython",
    "version": 3
   },
   "file_extension": ".py",
   "mimetype": "text/x-python",
   "name": "python",
   "nbconvert_exporter": "python",
   "pygments_lexer": "ipython3",
   "version": "3.6.10"
  }
 },
 "nbformat": 4,
 "nbformat_minor": 4
}
