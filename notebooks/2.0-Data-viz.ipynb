{
 "cells": [
  {
   "cell_type": "code",
   "execution_count": 1,
   "metadata": {},
   "outputs": [
    {
     "name": "stderr",
     "output_type": "stream",
     "text": [
      "/Users/johann/miniconda3/envs/lambda/lib/python3.6/site-packages/statsmodels/tools/_testing.py:19: FutureWarning: pandas.util.testing is deprecated. Use the functions in the public API at pandas.testing instead.\n",
      "  import pandas.util.testing as tm\n"
     ]
    }
   ],
   "source": [
    "import pandas as pd\n",
    "import matplotlib.pyplot as plt\n",
    "plt.style.use(['fivethirtyeight'])\n",
    "import seaborn as sns"
   ]
  },
  {
   "cell_type": "code",
   "execution_count": null,
   "metadata": {},
   "outputs": [],
   "source": [
    "(df_raw['Complaint Type'].value_counts()).head(25).plot(kind='bar',\n",
    "                    figsize=(10,6), title = 'Most common Complaints')"
   ]
  },
  {
   "cell_type": "code",
   "execution_count": null,
   "metadata": {},
   "outputs": [],
   "source": [
    "(df_raw['Complaint Type'].value_counts()).tail(25).plot(kind='bar',\n",
    "                    figsize=(10,6), title = 'Least frequent Complaints')"
   ]
  },
  {
   "cell_type": "code",
   "execution_count": null,
   "metadata": {},
   "outputs": [],
   "source": [
    "colors = ['#639ace', '#ca6b39', '#7f67ca', '#5ba85f', '#c360aa', '#a7993f', '#cc566a']\n",
    "\n",
    "df_raw['Borough'].value_counts().plot(kind = 'pie', autopct = '%1.1f%%',\n",
    "                        explode = None, startangle = 45, \n",
    "                        shadow = False, colors = colors,figsize = (8,6))\n",
    "\n",
    "#plt.legend(title = 'BOROUGH', loc='upper right', bbox_to_anchor = (1.5,1))\n",
    "plt.axis('equal')\n",
    "plt.title('Distrubution of complaints across the Boroughs(2010)\\n')\n",
    "plt.tight_layout()\n",
    "plt.show()\n",
    "\n",
    "\n",
    "\n",
    "# NOTE: \n",
    "# investigate 'Unspecified'"
   ]
  }
 ],
 "metadata": {
  "kernelspec": {
   "display_name": "Python 3",
   "language": "python",
   "name": "python3"
  },
  "language_info": {
   "codemirror_mode": {
    "name": "ipython",
    "version": 3
   },
   "file_extension": ".py",
   "mimetype": "text/x-python",
   "name": "python",
   "nbconvert_exporter": "python",
   "pygments_lexer": "ipython3",
   "version": "3.6.10"
  }
 },
 "nbformat": 4,
 "nbformat_minor": 4
}
